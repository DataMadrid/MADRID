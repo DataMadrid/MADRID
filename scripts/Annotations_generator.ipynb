{
 "cells": [
  {
   "cell_type": "code",
   "execution_count": 2,
   "metadata": {},
   "outputs": [],
   "source": [
    "import os\n",
    "import cv2\n",
    "import numpy as np\n",
    "import xml.etree.ElementTree as ET\n",
    "from PIL import Image, ImageDraw\n",
    "\n",
    "# Define a function to convert polyline to mask\n",
    "def polyline_to_mask(height, width, points):\n",
    "    # Create a black image with same size as the original image\n",
    "    mask = np.zeros((height, width), dtype=np.uint8)\n",
    "    \n",
    "    # Convert points to a numpy array\n",
    "    points = np.array(points, dtype=np.int32)\n",
    "    \n",
    "    # Draw the polyline\n",
    "    cv2.polylines(mask, [points], isClosed=False, color=1, thickness=3, lineType=cv2.FILLED)\n",
    "    \n",
    "    return mask\n",
    "\n",
    "# Define a function to parse XML file and extract masks\n",
    "def extract_masks_from_xml(xml_file, output_dir):\n",
    "    # Parse XML file\n",
    "    tree = ET.parse(xml_file)\n",
    "    root = tree.getroot()\n",
    "\n",
    "    # Iterate over each image in the XML file\n",
    "    for image in root.findall('image'):\n",
    "        # Get image attributes\n",
    "        image_id = image.get('id')\n",
    "        image_name = image.get('name')\n",
    "        width = int(image.get('width'))\n",
    "        height = int(image.get('height'))\n",
    "\n",
    "        # Iterate over each polyline in the image\n",
    "        for polyline in image.findall('polyline'):\n",
    "            # Get polyline points and convert them to a list of tuples\n",
    "            points = polyline.get('points').split(';')\n",
    "            points = [tuple(map(float, point.split(','))) for point in points]\n",
    "\n",
    "            # Convert polyline to mask\n",
    "            mask = polyline_to_mask(height, width, points)\n",
    "\n",
    "            # Convert mask to PIL image\n",
    "            mask_img = Image.fromarray(mask.astype(np.uint8) * 255)\n",
    "\n",
    "            # Save mask to output directory\n",
    "            mask_img.save(os.path.join(output_dir, f'{image_name}_mask.png'))\n",
    "\n",
    "# Call the function to extract masks from XML file\n",
    "extract_masks_from_xml('/../annotations.xml', '/../masks')\n"
   ]
  },
  {
   "cell_type": "code",
   "execution_count": null,
   "metadata": {},
   "outputs": [],
   "source": []
  }
 ],
 "metadata": {
  "kernelspec": {
   "display_name": "Python 3",
   "language": "python",
   "name": "python3"
  },
  "language_info": {
   "codemirror_mode": {
    "name": "ipython",
    "version": 3
   },
   "file_extension": ".py",
   "mimetype": "text/x-python",
   "name": "python",
   "nbconvert_exporter": "python",
   "pygments_lexer": "ipython3",
   "version": "3.10.12"
  }
 },
 "nbformat": 4,
 "nbformat_minor": 2
}
